{
 "cells": [
  {
   "cell_type": "code",
   "execution_count": 1,
   "metadata": {},
   "outputs": [],
   "source": [
    "import pandas as pd\n",
    "import numpy as np\n",
    "import matplotlib.pyplot as plt\n",
    "import math\n",
    "%matplotlib inline"
   ]
  },
  {
   "cell_type": "code",
   "execution_count": 2,
   "metadata": {},
   "outputs": [],
   "source": [
    "df = pd.read_csv(\"pose_data.csv\")"
   ]
  },
  {
   "cell_type": "code",
   "execution_count": 3,
   "metadata": {},
   "outputs": [
    {
     "data": {
      "text/html": [
       "<div>\n",
       "<style scoped>\n",
       "    .dataframe tbody tr th:only-of-type {\n",
       "        vertical-align: middle;\n",
       "    }\n",
       "\n",
       "    .dataframe tbody tr th {\n",
       "        vertical-align: top;\n",
       "    }\n",
       "\n",
       "    .dataframe thead th {\n",
       "        text-align: right;\n",
       "    }\n",
       "</style>\n",
       "<table border=\"1\" class=\"dataframe\">\n",
       "  <thead>\n",
       "    <tr style=\"text-align: right;\">\n",
       "      <th></th>\n",
       "      <th>P_x</th>\n",
       "      <th>P_y</th>\n",
       "      <th>O_z</th>\n",
       "      <th>O_w</th>\n",
       "    </tr>\n",
       "  </thead>\n",
       "  <tbody>\n",
       "    <tr>\n",
       "      <th>0</th>\n",
       "      <td>0.207795</td>\n",
       "      <td>0.002223</td>\n",
       "      <td>0.011205</td>\n",
       "      <td>0.999937</td>\n",
       "    </tr>\n",
       "    <tr>\n",
       "      <th>1</th>\n",
       "      <td>0.411551</td>\n",
       "      <td>0.009009</td>\n",
       "      <td>0.022051</td>\n",
       "      <td>0.999757</td>\n",
       "    </tr>\n",
       "    <tr>\n",
       "      <th>2</th>\n",
       "      <td>0.612859</td>\n",
       "      <td>0.020023</td>\n",
       "      <td>0.032597</td>\n",
       "      <td>0.999469</td>\n",
       "    </tr>\n",
       "    <tr>\n",
       "      <th>3</th>\n",
       "      <td>0.818802</td>\n",
       "      <td>0.035607</td>\n",
       "      <td>0.042213</td>\n",
       "      <td>0.999109</td>\n",
       "    </tr>\n",
       "    <tr>\n",
       "      <th>4</th>\n",
       "      <td>1.027643</td>\n",
       "      <td>0.054191</td>\n",
       "      <td>0.045696</td>\n",
       "      <td>0.998955</td>\n",
       "    </tr>\n",
       "  </tbody>\n",
       "</table>\n",
       "</div>"
      ],
      "text/plain": [
       "        P_x       P_y       O_z       O_w\n",
       "0  0.207795  0.002223  0.011205  0.999937\n",
       "1  0.411551  0.009009  0.022051  0.999757\n",
       "2  0.612859  0.020023  0.032597  0.999469\n",
       "3  0.818802  0.035607  0.042213  0.999109\n",
       "4  1.027643  0.054191  0.045696  0.998955"
      ]
     },
     "execution_count": 3,
     "metadata": {},
     "output_type": "execute_result"
    }
   ],
   "source": [
    "df.head()"
   ]
  },
  {
   "cell_type": "code",
   "execution_count": 4,
   "metadata": {
    "scrolled": true
   },
   "outputs": [
    {
     "data": {
      "image/png": "[encoded data removed]",
      "text/plain": [
       "<Figure size 432x288 with 1 Axes>"
      ]
     },
     "metadata": {
      "needs_background": "light"
     },
     "output_type": "display_data"
    }
   ],
   "source": [
    "plt.scatter(df[\"P_x\"],df[\"P_y\"], s=50, label='Pose Measurements', marker='+')\n",
    "# Start/Goal\n",
    "\n",
    "plt.xlabel('X [m]')\n",
    "plt.ylabel('Y [m]')\n",
    "plt.title('Position')\n",
    "plt.legend(loc='best')\n",
    "plt.axis('equal')\n",
    "plt.show()"
   ]
  },
  {
   "cell_type": "code",
   "execution_count": 7,
   "metadata": {},
   "outputs": [],
   "source": [
    "from geometry_msgs.msg import PoseWithCovarianceStamped, PoseStamped\n",
    "from nav_msgs.msg import Odometry, Path\n",
    "import rospy\n",
    "pose = PoseStamped()\n",
    "pose.header.frame_id = \"map\"\n",
    "pose.pose.position.x = df[\"P_x\"].values\n",
    "pose.pose.position.y = df[\"P_y\"].values\n",
    "pose.pose.position.z = [0 for i in range(len(df))]\n",
    "pose.pose.orientation.x = [0 for i in range(len(df))]\n",
    "pose.pose.orientation.y = [0 for i in range(len(df))]\n",
    "pose.pose.orientation.z = df[\"O_z\"].values\n",
    "pose.pose.orientation.w = df[\"O_w\"].values"
   ]
  },
  {
   "cell_type": "code",
   "execution_count": 9,
   "metadata": {},
   "outputs": [],
   "source": [
    "path = Path()\n",
    "path.header.frame_id = \"main\"\n",
    "# path.header.stamp = rospy.Time.now()\n",
    "pose.header.stamp = path.header.stamp\n",
    "path.poses.append(pose)"
   ]
  },
  {
   "cell_type": "code",
   "execution_count": 10,
   "metadata": {},
   "outputs": [
    {
     "data": {
      "text/plain": [
       "header: \n",
       "  seq: 0\n",
       "  stamp: \n",
       "    secs: 0\n",
       "    nsecs:         0\n",
       "  frame_id: \"main\"\n",
       "poses: \n",
       "  - \n",
       "    header: \n",
       "      seq: 0\n",
       "      stamp: \n",
       "        secs: 0\n",
       "        nsecs:         0\n",
       "      frame_id: \"map\"\n",
       "    pose: \n",
       "      position: \n",
       "        x: [ 3.00168885e+00  2.64542394e+00  2.39697140e+00  2.16274388e+00\n",
       "  1.92494888e+00  1.69114983e+00  1.44701483e+00  1.21729438e+00\n",
       "  9.89662721e-01  7.43348582e-01  5.11818243e-01  2.66943046e-01\n",
       "  2.33958928e-02 -2.20620204e-01 -4.58015893e-01 -6.90721173e-01\n",
       " -9.58786336e-01 -1.20012653e+00 -1.45697648e+00 -1.69582036e+00\n",
       " -1.97599438e+00 -2.21251673e+00 -2.30196754e+00 -2.67801462e+00\n",
       " -2.67698790e+00 -2.67415964e+00 -2.58504837e+00 -2.56297132e+00\n",
       " -2.47866613e+00 -2.28272126e+00 -2.03104396e+00 -1.74371698e+00\n",
       " -1.41374117e+00 -1.18760529e+00 -9.59902980e-01 -7.10666857e-01\n",
       " -4.66099693e-01 -2.32775149e-01 -1.83928740e-03  2.27883834e-01\n",
       "  4.73143310e-01  7.02563866e-01  9.30673347e-01  1.17381704e+00\n",
       "  1.43815328e+00  1.66901118e+00  1.89723465e+00  1.92171691e+00\n",
       "  1.91720338e+00  1.91706607e+00  2.05675232e+00  2.05160481e+00\n",
       "  1.86641918e+00  1.63666784e+00  1.59587050e+00  1.32956153e+00\n",
       "  1.05213915e+00  7.96211608e-01  5.43665294e-01  2.89850561e-01\n",
       "  6.97301589e-02 -1.76697948e-01 -4.19709274e-01 -6.53943795e-01\n",
       " -8.89609764e-01 -1.13030417e+00 -1.36738666e+00 -1.60998841e+00\n",
       " -1.84976494e+00 -2.09604857e+00 -2.33615845e+00 -2.57531175e+00\n",
       " -2.88936778e+00 -3.07804941e+00 -3.07379425e+00 -3.14157523e+00\n",
       " -3.13929309e+00 -3.13900812e+00 -3.13156779e+00 -2.98416038e+00\n",
       " -2.77233377e+00 -2.52386654e+00 -2.30928410e+00 -2.09279031e+00\n",
       " -1.84438757e+00 -1.61566107e+00 -1.38820627e+00 -1.16449420e+00\n",
       " -9.30096902e-01 -6.99833610e-01 -4.71426268e-01 -2.43722277e-01\n",
       " -1.09028767e-02  2.35172148e-01  4.96227767e-01  8.66909946e-01\n",
       "  1.09701304e+00  1.32600644e+00  1.38581988e+00  1.33535495e+00\n",
       "  1.33447975e+00  1.33848755e+00  1.40754956e+00  1.35740297e+00\n",
       "  1.19719376e+00  1.17274213e+00  9.12325241e-01  6.53299945e-01\n",
       "  3.90764494e-01  1.32899752e-01 -1.27918363e-01 -3.81937895e-01\n",
       " -6.30261113e-01 -8.81091948e-01 -1.12929774e+00 -1.37719386e+00\n",
       " -1.62105656e+00 -1.89796708e+00 -2.12816505e+00 -2.36821789e+00\n",
       " -2.60148667e+00 -2.84466703e+00 -3.06637733e+00 -3.29417401e+00\n",
       " -3.43317319e+00 -3.41284335e+00 -3.40895166e+00 -3.40580723e+00\n",
       " -3.40364434e+00 -3.50737988e+00 -3.49495064e+00 -3.37575368e+00\n",
       " -3.23857813e+00 -3.05009414e+00 -2.84988459e+00 -2.63283056e+00\n",
       " -2.40994843e+00 -2.18463621e+00 -1.95632326e+00 -1.71801724e+00\n",
       " -1.48282265e+00 -1.25310043e+00 -1.02579708e+00 -7.35344917e-01\n",
       " -4.99840201e-01 -2.55224846e-01  6.42901447e-02  3.01370919e-01\n",
       "  6.62031467e-01  9.67357947e-01  1.22401437e+00  1.49336098e+00\n",
       "  1.73432562e+00  1.87695855e+00  2.11041999e+00  2.32362194e+00\n",
       "  2.48444529e+00  2.62786655e+00  2.75847714e+00  2.86706932e+00]\n",
       "        y: [-0.74446468 -0.89148813 -0.99890048 -1.10352222 -1.2132235  -1.32494779\n",
       " -1.3989211  -1.50790486 -1.61815749 -1.69913907 -1.80226198 -1.91465472\n",
       " -2.03103573 -2.11364459 -2.23025277 -2.34820419 -2.46620656 -2.57631796\n",
       " -2.69592589 -2.81128319 -2.88926698 -2.98099455 -2.99206646 -3.10226544\n",
       " -3.10858471 -3.11441623 -3.07460431 -3.0010164  -2.89541189 -2.6245666\n",
       " -2.4560408  -2.26433681 -2.19156553 -2.06147222 -1.93970084 -1.81551208\n",
       " -1.74073851 -1.63000187 -1.51832858 -1.40506825 -1.29957885 -1.19835448\n",
       " -1.09563917 -0.98398338 -0.91566863 -0.81832982 -0.69810614 -0.67613969\n",
       " -0.6877709  -0.69987659 -0.68154669 -0.67771208 -0.58336633 -0.46513481\n",
       " -0.46460033 -0.49621878 -0.54829854 -0.6124459  -0.6902435  -0.77705415\n",
       " -0.91066805 -1.00899885 -1.10123463 -1.20443507 -1.31780179 -1.38599397\n",
       " -1.48985983 -1.59763126 -1.70568458 -1.77688973 -1.89017961 -2.0056076\n",
       " -2.14270731 -2.19776943 -2.19917536 -2.23150069 -2.23553576 -2.22703426\n",
       " -2.12226109 -1.88896648 -1.66178531 -1.4868296  -1.34581741 -1.21186036\n",
       " -1.17157133 -1.04203807 -0.91291999 -0.78592653 -0.68175409 -0.57219258\n",
       " -0.46132294 -0.34695588 -0.23152033 -0.11728347  0.00820835  0.08883284\n",
       "  0.1927166   0.30469523  0.34536955  0.3196697   0.30558643  0.29226618\n",
       "  0.32833079  0.35860534  0.45428147  0.45431776  0.43193237  0.39537957\n",
       "  0.35358678  0.2845614   0.21741807  0.13837752  0.04489708 -0.05809958\n",
       " -0.15095831 -0.24982085 -0.35398061 -0.41055572 -0.5170207  -0.63507615\n",
       " -0.75685288 -0.8497797  -0.96669071 -1.09029603 -1.15508258 -1.13269485\n",
       " -1.13353704 -1.1356395  -1.13868724 -1.18047564 -1.12135135 -0.88745875\n",
       " -0.6680924  -0.47826097 -0.30955318 -0.17358176 -0.03610262  0.09504328\n",
       "  0.22132184  0.32319065  0.43301676  0.54295948  0.65437906  0.77879122\n",
       "  0.87827541  0.9843934   1.07534448  1.17269529  1.32843525  1.46812435\n",
       "  1.54382332  1.66634745  1.73775112  1.73067791  1.62422418  1.48794635\n",
       "  1.28691862  1.06261803  0.83758745  0.60453693]\n",
       "        z: [0, 0, 0, 0, 0, 0, 0, 0, 0, 0, 0, 0, 0, 0, 0, 0, 0, 0, 0, 0, 0, 0, 0, 0, 0, 0, 0, 0, 0, 0, 0, 0, 0, 0, 0, 0, 0, 0, 0, 0, 0, 0, 0, 0, 0, 0, 0, 0, 0, 0, 0, 0, 0, 0, 0, 0, 0, 0, 0, 0, 0, 0, 0, 0, 0, 0, 0, 0, 0, 0, 0, 0, 0, 0, 0, 0, 0, 0, 0, 0, 0, 0, 0, 0, 0, 0, 0, 0, 0, 0, 0, 0, 0, 0, 0, 0, 0, 0, 0, 0, 0, 0, 0, 0, 0, 0, 0, 0, 0, 0, 0, 0, 0, 0, 0, 0, 0, 0, 0, 0, 0, 0, 0, 0, 0, 0, 0, 0, 0, 0, 0, 0, 0, 0, 0, 0, 0, 0, 0, 0, 0, 0, 0, 0, 0, 0, 0, 0, 0, 0, 0, 0, 0, 0, 0, 0, 0, 0, 0, 0]\n",
       "      orientation: \n",
       "        x: [0, 0, 0, 0, 0, 0, 0, 0, 0, 0, 0, 0, 0, 0, 0, 0, 0, 0, 0, 0, 0, 0, 0, 0, 0, 0, 0, 0, 0, 0, 0, 0, 0, 0, 0, 0, 0, 0, 0, 0, 0, 0, 0, 0, 0, 0, 0, 0, 0, 0, 0, 0, 0, 0, 0, 0, 0, 0, 0, 0, 0, 0, 0, 0, 0, 0, 0, 0, 0, 0, 0, 0, 0, 0, 0, 0, 0, 0, 0, 0, 0, 0, 0, 0, 0, 0, 0, 0, 0, 0, 0, 0, 0, 0, 0, 0, 0, 0, 0, 0, 0, 0, 0, 0, 0, 0, 0, 0, 0, 0, 0, 0, 0, 0, 0, 0, 0, 0, 0, 0, 0, 0, 0, 0, 0, 0, 0, 0, 0, 0, 0, 0, 0, 0, 0, 0, 0, 0, 0, 0, 0, 0, 0, 0, 0, 0, 0, 0, 0, 0, 0, 0, 0, 0, 0, 0, 0, 0, 0, 0]\n",
       "        y: [0, 0, 0, 0, 0, 0, 0, 0, 0, 0, 0, 0, 0, 0, 0, 0, 0, 0, 0, 0, 0, 0, 0, 0, 0, 0, 0, 0, 0, 0, 0, 0, 0, 0, 0, 0, 0, 0, 0, 0, 0, 0, 0, 0, 0, 0, 0, 0, 0, 0, 0, 0, 0, 0, 0, 0, 0, 0, 0, 0, 0, 0, 0, 0, 0, 0, 0, 0, 0, 0, 0, 0, 0, 0, 0, 0, 0, 0, 0, 0, 0, 0, 0, 0, 0, 0, 0, 0, 0, 0, 0, 0, 0, 0, 0, 0, 0, 0, 0, 0, 0, 0, 0, 0, 0, 0, 0, 0, 0, 0, 0, 0, 0, 0, 0, 0, 0, 0, 0, 0, 0, 0, 0, 0, 0, 0, 0, 0, 0, 0, 0, 0, 0, 0, 0, 0, 0, 0, 0, 0, 0, 0, 0, 0, 0, 0, 0, 0, 0, 0, 0, 0, 0, 0, 0, 0, 0, 0, 0, 0]\n",
       "        z: [ 0.98187796  0.97990845  0.97860537  0.97742219  0.97601213  0.97448535\n",
       "  0.97618976  0.97507458  0.9742016   0.97864989  0.97758896  0.97621193\n",
       "  0.97414256  0.97493567  0.97313669  0.97223576  0.97736064  0.97694642\n",
       "  0.97556679  0.97408699  0.97765529  0.99145184  0.99983625  0.96186626\n",
       "  0.88997269  0.79570245  0.67215302  0.5311087   0.3745004   0.28872939\n",
       "  0.29210913  0.2873208   0.26080144  0.25263214  0.23432414  0.22861835\n",
       "  0.21797309  0.22153432  0.22513202  0.228929    0.20440386  0.20813886\n",
       "  0.21174041  0.21543485  0.19481964  0.20576062  0.29869692  0.48785347\n",
       "  0.63718649  0.76491723  0.86642829  0.94006588  0.98516386  0.99980119\n",
       "  0.99997905  0.99630731  0.99389225  0.99027403  0.9874935   0.98531458\n",
       "  0.98690326  0.98545362  0.98111508  0.97642731  0.97377812  0.9789483\n",
       "  0.97853083  0.97794597  0.97740529  0.97623656  0.97534291  0.97431287\n",
       "  0.98161085  0.99999478  0.97404686  0.90823873  0.81135303  0.69069214\n",
       "  0.54322193  0.42776436  0.32056839  0.29315887  0.2800367   0.26718012\n",
       "  0.25322601  0.25529432  0.25529432  0.25529432  0.21931444  0.22135102\n",
       "  0.22725959  0.2340029   0.21196892  0.21896782  0.22527649  0.21011671\n",
       "  0.21087924  0.26328177  0.45332559  0.61728815  0.74693524  0.85314142\n",
       "  0.93325709  0.98324552  0.99998259  0.99999425  0.99772383  0.99729467\n",
       "  0.99639947  0.9933299   0.99059862  0.98636983  0.98113745  0.98493659\n",
       "  0.98313564  0.98089866  0.97846625  0.97786315  0.97536902  0.97259598\n",
       "  0.96980686  0.97198202  0.96943624  0.97035563  0.99782488  0.99994941\n",
       "  0.97945354  0.92631036  0.84334885  0.73227709  0.59626528  0.46948836\n",
       "  0.4117209   0.35900727  0.33300698  0.27907488  0.26652865  0.25493144\n",
       "  0.24542698  0.21435762  0.21904212  0.22363333  0.22819199  0.19620162\n",
       "  0.20083365  0.20615147  0.18933602  0.19703256  0.20818516  0.21752917\n",
       "  0.21001864  0.20404765  0.06798568 -0.10929452 -0.28617545 -0.39469828\n",
       " -0.4646308  -0.49082197 -0.50620587 -0.55265183]\n",
       "        w: [-0.1895143  -0.19944783 -0.20574628 -0.21129568 -0.21771614 -0.2244511\n",
       " -0.21691831 -0.22187736 -0.22567952 -0.20553439 -0.21052273 -0.21681851\n",
       " -0.22593423 -0.22248692 -0.2302281  -0.2340035  -0.21158021 -0.21348464\n",
       " -0.21970308 -0.22617367 -0.21021449 -0.13047317  0.01809597  0.27352018\n",
       "  0.45601383  0.60568772  0.74041226  0.84730369  0.92722675  0.95741075\n",
       "  0.95638499  0.95783441  0.96539246  0.9675624   0.97215852  0.97351613\n",
       "  0.97595478  0.97515258  0.97432827  0.97344312  0.97888664  0.97809929\n",
       "  0.97732594  0.97651821  0.98083908  0.97860235  0.95434802  0.87292554\n",
       "  0.77070966  0.64412858  0.49930153  0.34099289  0.17161634  0.01993932\n",
       " -0.00647369 -0.08585882 -0.11035483 -0.13913067 -0.1576597  -0.17074885\n",
       " -0.16131324 -0.16994459 -0.19342492 -0.21584649 -0.22749985 -0.20410838\n",
       " -0.20610048 -0.20885806 -0.21137384 -0.21670757 -0.22069485 -0.22519865\n",
       " -0.19089298  0.00323104  0.22634643  0.4184524   0.58455646  0.72314892\n",
       "  0.83958915  0.90389029  0.94722537  0.95606374  0.9599893   0.96364661\n",
       "  0.96740715  0.96686339  0.96686339  0.96686339  0.97565423  0.9751942\n",
       "  0.97383422  0.9722359   0.97727641  0.97573208  0.97429487  0.97767631\n",
       "  0.97751212  0.96471898  0.891345    0.78673715  0.6648968   0.52167971\n",
       "  0.35920913  0.18228619  0.00590084 -0.00339078 -0.06743258 -0.07350746\n",
       " -0.08478266 -0.115307   -0.13680048 -0.16454348 -0.1933114  -0.1729159\n",
       " -0.18287787 -0.19451947 -0.20640686 -0.20924544 -0.22057942 -0.23250174\n",
       " -0.24387427 -0.2350552  -0.24534337 -0.24168149 -0.06592042  0.01005911\n",
       "  0.20166994  0.37676136  0.53736646  0.6810068   0.80278747  0.88293866\n",
       "  0.91130999  0.93333476  0.94292436  0.96026934  0.963827    0.96695913\n",
       "  0.96941508  0.97675525  0.9757154   0.97467335  0.97361615  0.98056358\n",
       "  0.97962536  0.97852009  0.98191235  0.98039694  0.97808943  0.97605382\n",
       "  0.97769738  0.97896096  0.9976863   0.99400941  0.95817723  0.91881079\n",
       "  0.8855045   0.87125989  0.86241267  0.83341224]"
      ]
     },
     "execution_count": 10,
     "metadata": {},
     "output_type": "execute_result"
    }
   ],
   "source": [
    "path"
   ]
  },
  {
   "cell_type": "code",
   "execution_count": null,
   "metadata": {},
   "outputs": [],
   "source": [
    "x = np.array(df[\"P_x\"].values)\n",
    "y = np.array(df[\"P_y\"].values)"
   ]
  },
  {
   "cell_type": "code",
   "execution_count": null,
   "metadata": {},
   "outputs": [],
   "source": []
  },
  {
   "cell_type": "code",
   "execution_count": null,
   "metadata": {},
   "outputs": [],
   "source": [
    "# cnt = 0\n",
    "a_ = []\n",
    "b_ = []\n",
    "\n",
    "for i in range(x.shape[0]):\n",
    "    if i<1:\n",
    "#         b_.append(x[i])\n",
    "        continue\n",
    "    else:\n",
    "#         print(cnt)\n",
    "        b = [x[i]-x[i-1],y[i] - y[i-1]]\n",
    "        b_.append(b)\n",
    "#         cnt+=1\n",
    "\n",
    "# cnt = 0\n",
    "for i in range(x.shape[0]):\n",
    "    if i>x.shape[0]-2:\n",
    "#         a_.append(x[i])\n",
    "        continue\n",
    "    else:\n",
    "#         print(cnt)\n",
    "        a = [x[i]-x[i+1], y[i] - y[i+1]]\n",
    "        a_.append(a)\n",
    "#         cnt+=1\n",
    "    "
   ]
  },
  {
   "cell_type": "code",
   "execution_count": null,
   "metadata": {},
   "outputs": [],
   "source": [
    "a_"
   ]
  },
  {
   "cell_type": "code",
   "execution_count": null,
   "metadata": {},
   "outputs": [],
   "source": [
    "a = np.array(a_)\n",
    "b = np.array(b_)"
   ]
  },
  {
   "cell_type": "code",
   "execution_count": null,
   "metadata": {},
   "outputs": [],
   "source": [
    "def unit_vector(val):\n",
    "    unit_val = val / np.linalg.norm(val)\n",
    "    return unit_val"
   ]
  },
  {
   "cell_type": "code",
   "execution_count": null,
   "metadata": {},
   "outputs": [],
   "source": [
    "unit_vector(a[0])"
   ]
  },
  {
   "cell_type": "code",
   "execution_count": null,
   "metadata": {},
   "outputs": [],
   "source": [
    "np.linalg.norm(a[0])"
   ]
  },
  {
   "cell_type": "code",
   "execution_count": null,
   "metadata": {},
   "outputs": [],
   "source": []
  },
  {
   "cell_type": "code",
   "execution_count": null,
   "metadata": {},
   "outputs": [],
   "source": [
    "a_mod"
   ]
  },
  {
   "cell_type": "code",
   "execution_count": null,
   "metadata": {},
   "outputs": [],
   "source": []
  },
  {
   "cell_type": "code",
   "execution_count": null,
   "metadata": {},
   "outputs": [],
   "source": [
    "a[0]*b[0]"
   ]
  },
  {
   "cell_type": "code",
   "execution_count": null,
   "metadata": {},
   "outputs": [],
   "source": [
    "def angle_between(v1, v2):\n",
    "    dot_pr = v1.dot(v2)\n",
    "    norms = np.linalg.norm(v1) * np.linalg.norm(v2)\n",
    "    return np.rad2deg(np.arccos(dot_pr / norms))"
   ]
  },
  {
   "cell_type": "code",
   "execution_count": null,
   "metadata": {},
   "outputs": [],
   "source": [
    "angle_between(a[0], b[0])"
   ]
  },
  {
   "cell_type": "code",
   "execution_count": null,
   "metadata": {},
   "outputs": [],
   "source": [
    "#unit vector implementation\n",
    "a = np.array([1,2,3])\n",
    "b = np.array([4,5,6])\n",
    "def unit_vector(val):\n",
    "    unit_val = val / np.linalg.norm(val)\n",
    "    return unit_val\n",
    "\n",
    "unit_a = unit_vector(a)\n",
    "print(unit_a)\n",
    "\n",
    "unit_b = unit_vector(b)\n",
    "print(unit_b)\n",
    "\n",
    "C = (unit_a*unit_b)\n",
    "print(C)"
   ]
  },
  {
   "cell_type": "code",
   "execution_count": null,
   "metadata": {},
   "outputs": [],
   "source": [
    "def unit_vector(v):\n",
    "    return v / np.linalg.norm(v)\n",
    "u = np.array([3, 6, 4])\n",
    "print(unit_vector(u))"
   ]
  },
  {
   "cell_type": "code",
   "execution_count": null,
   "metadata": {},
   "outputs": [],
   "source": [
    "def angle_between(v1, v2):\n",
    "    dot_pr = v1.dot(v2)\n",
    "    norms = np.linalg.norm(v1) * np.linalg.norm(v2)\n",
    " \n",
    "    return np.rad2deg(np.arccos(dot_pr / norms))\n",
    "v = np.array([1, 4, 5])\n",
    "u = np.array([2, 1, 5])\n",
    "print(angle_between(v, u))"
   ]
  },
  {
   "cell_type": "code",
   "execution_count": null,
   "metadata": {},
   "outputs": [],
   "source": []
  },
  {
   "cell_type": "code",
   "execution_count": null,
   "metadata": {},
   "outputs": [],
   "source": [
    "pose_data = open(\"pose_data.csv\", mode='w+')\n",
    "pose_data.write(\"{},{},{},{}\\n\".format(\"P_x\",\"P_y\", \"O_z\", \"O_w\"))"
   ]
  },
  {
   "cell_type": "code",
   "execution_count": null,
   "metadata": {},
   "outputs": [],
   "source": [
    "old_x = 0\n",
    "old_y = 0\n",
    "\n",
    "down_sample_Px = []\n",
    "down_sample_Py = []\n",
    "\n",
    "for P_x, P_y, O_z, O_w in zip(df[\"P_x\"], df[\"P_y\"], df[\"O_z\"], df[\"O_w\"] ):\n",
    "    curr_dis = abs(math.sqrt((P_x - old_x)**2 + (P_y - old_y)**2))\n",
    "    if curr_dis > 1.0:\n",
    "        print(P_x, P_y)\n",
    "        pose_data.write(\"{},{},{},{}\\n\".format(P_x, P_y, O_z, O_w))\n",
    "        \n",
    "        down_sample_Px.append(P_x)\n",
    "        down_sample_Py.append(P_y)\n",
    "        \n",
    "        old_x = P_x\n",
    "        old_y = P_y\n",
    "    \n",
    "#     print(P_x, P_y, O_z, O_w)"
   ]
  },
  {
   "cell_type": "code",
   "execution_count": null,
   "metadata": {},
   "outputs": [],
   "source": [
    "plt.scatter(down_sample_Px,down_sample_Py, s=50, label='Pose Measurements', marker='+')\n",
    "# Start/Goal\n",
    "\n",
    "plt.xlabel('X [m]')\n",
    "plt.ylabel('Y [m]')\n",
    "plt.title('Position')\n",
    "# plt.legend(loc='best')\n",
    "plt.axis('equal')\n",
    "plt.show()"
   ]
  },
  {
   "cell_type": "code",
   "execution_count": null,
   "metadata": {},
   "outputs": [],
   "source": []
  },
  {
   "cell_type": "code",
   "execution_count": null,
   "metadata": {},
   "outputs": [],
   "source": []
  }
 ],
 "metadata": {
  "kernelspec": {
   "display_name": "Python 3",
   "language": "python",
   "name": "python3"
  },
  "language_info": {
   "codemirror_mode": {
    "name": "ipython",
    "version": 3
   },
   "file_extension": ".py",
   "mimetype": "text/x-python",
   "name": "python",
   "nbconvert_exporter": "python",
   "pygments_lexer": "ipython3",
   "version": "3.6.9"
  }
 },
 "nbformat": 4,
 "nbformat_minor": 4
}
