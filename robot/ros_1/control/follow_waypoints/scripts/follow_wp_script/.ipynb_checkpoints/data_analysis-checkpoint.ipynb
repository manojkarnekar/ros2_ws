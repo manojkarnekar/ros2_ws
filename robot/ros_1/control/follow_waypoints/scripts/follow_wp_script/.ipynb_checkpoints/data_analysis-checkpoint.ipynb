{
 "cells": [
  {
   "cell_type": "code",
   "execution_count": 19,
   "metadata": {},
   "outputs": [],
   "source": [
    "import pandas as pd\n",
    "import numpy as np\n",
    "import matplotlib.pyplot as plt\n",
    "import math\n",
    "%matplotlib inline"
   ]
  },
  {
   "cell_type": "code",
   "execution_count": 20,
   "metadata": {},
   "outputs": [],
   "source": [
    "df = pd.read_csv(\"pose_data.csv\")"
   ]
  },
  {
   "cell_type": "code",
   "execution_count": 21,
   "metadata": {},
   "outputs": [],
   "source": [
    "# df.head()"
   ]
  },
  {
   "cell_type": "code",
   "execution_count": 22,
   "metadata": {},
   "outputs": [
    {
     "data": {
      "image/png": "[encoded data removed]",
      "text/plain": [
       "<Figure size 432x288 with 1 Axes>"
      ]
     },
     "metadata": {
      "needs_background": "light"
     },
     "output_type": "display_data"
    }
   ],
   "source": [
    "plt.scatter(df[\"P_x\"],df[\"P_y\"], s=50, label='Pose Measurements', marker='+')\n",
    "# Start/Goal\n",
    "\n",
    "plt.xlabel('X [m]')\n",
    "plt.ylabel('Y [m]')\n",
    "plt.title('Position')\n",
    "plt.legend(loc='best')\n",
    "plt.axis('equal')\n",
    "plt.show()"
   ]
  },
  {
   "cell_type": "code",
   "execution_count": 37,
   "metadata": {},
   "outputs": [],
   "source": [
    "x = np.array(df[\"P_x\"].values)\n",
    "y = np.array(df[\"P_y\"].values)"
   ]
  },
  {
   "cell_type": "code",
   "execution_count": 40,
   "metadata": {},
   "outputs": [
    {
     "data": {
      "text/plain": [
       "52"
      ]
     },
     "execution_count": 40,
     "metadata": {},
     "output_type": "execute_result"
    }
   ],
   "source": []
  },
  {
   "cell_type": "code",
   "execution_count": 60,
   "metadata": {},
   "outputs": [],
   "source": [
    "# cnt = 0\n",
    "a_ = []\n",
    "b_ = []\n",
    "\n",
    "for i in range(x.shape[0]):\n",
    "    if i<1:\n",
    "#         b_.append(x[i])\n",
    "        continue\n",
    "    else:\n",
    "#         print(cnt)\n",
    "        b = ((x[i]-x[i-1]),(y[i] - y[i-1]))\n",
    "        b_.append(b)\n",
    "#         cnt+=1\n",
    "\n",
    "# cnt = 0\n",
    "for i in range(x.shape[0]):\n",
    "    if i>x.shape[0]-2:\n",
    "#         a_.append(x[i])\n",
    "        continue\n",
    "    else:\n",
    "#         print(cnt)\n",
    "        a = ((x[i]-x[i+1]),(y[i] - y[i+1]))\n",
    "        a_.append(a)\n",
    "#         cnt+=1\n",
    "    \n",
    "    "
   ]
  },
  {
   "cell_type": "code",
   "execution_count": 63,
   "metadata": {},
   "outputs": [
    {
     "data": {
      "text/plain": [
       "51"
      ]
     },
     "execution_count": 63,
     "metadata": {},
     "output_type": "execute_result"
    }
   ],
   "source": [
    "a = np.array(a_)\n",
    "b = np.array(b_)\n"
   ]
  },
  {
   "cell_type": "code",
   "execution_count": 8,
   "metadata": {},
   "outputs": [
    {
     "name": "stdout",
     "output_type": "stream",
     "text": [
      "[0.26726124 0.53452248 0.80178373]\n",
      "[0.45584231 0.56980288 0.68376346]\n",
      "[0.12182898 0.30457245 0.54823041]\n"
     ]
    }
   ],
   "source": [
    "#unit vector implementation\n",
    "a = np.array([1,2,3])\n",
    "b = np.array([4,5,6])\n",
    "def unit_vector(val):\n",
    "    unit_val = val / np.linalg.norm(val)\n",
    "    return unit_val\n",
    "\n",
    "unit_a = unit_vector(a)\n",
    "print(unit_a)\n",
    "\n",
    "unit_b = unit_vector(b)\n",
    "print(unit_b)\n",
    "\n",
    "C = (unit_a*unit_b)\n",
    "print(C)"
   ]
  },
  {
   "cell_type": "code",
   "execution_count": 9,
   "metadata": {},
   "outputs": [
    {
     "name": "stdout",
     "output_type": "stream",
     "text": [
      "[0.38411064 0.76822128 0.51214752]\n"
     ]
    }
   ],
   "source": [
    "def unit_vector(v):\n",
    "    return v / np.linalg.norm(v)\n",
    "u = np.array([3, 6, 4])\n",
    "print(unit_vector(u))"
   ]
  },
  {
   "cell_type": "code",
   "execution_count": 10,
   "metadata": {},
   "outputs": [
    {
     "name": "stdout",
     "output_type": "stream",
     "text": [
      "29.152519407030084\n"
     ]
    }
   ],
   "source": [
    "def angle_between(v1, v2):\n",
    "    dot_pr = v1.dot(v2)\n",
    "    norms = np.linalg.norm(v1) * np.linalg.norm(v2)\n",
    " \n",
    "    return np.rad2deg(np.arccos(dot_pr / norms))\n",
    "v = np.array([1, 4, 5])\n",
    "u = np.array([2, 1, 5])\n",
    "print(angle_between(v, u))"
   ]
  },
  {
   "cell_type": "code",
   "execution_count": null,
   "metadata": {},
   "outputs": [],
   "source": []
  },
  {
   "cell_type": "code",
   "execution_count": null,
   "metadata": {},
   "outputs": [],
   "source": [
    "pose_data = open(\"pose_data.csv\", mode='w+')\n",
    "pose_data.write(\"{},{},{},{}\\n\".format(\"P_x\",\"P_y\", \"O_z\", \"O_w\"))"
   ]
  },
  {
   "cell_type": "code",
   "execution_count": null,
   "metadata": {},
   "outputs": [],
   "source": [
    "old_x = 0\n",
    "old_y = 0\n",
    "\n",
    "down_sample_Px = []\n",
    "down_sample_Py = []\n",
    "\n",
    "for P_x, P_y, O_z, O_w in zip(df[\"P_x\"], df[\"P_y\"], df[\"O_z\"], df[\"O_w\"] ):\n",
    "    curr_dis = abs(math.sqrt((P_x - old_x)**2 + (P_y - old_y)**2))\n",
    "    if curr_dis > 1.0:\n",
    "        print(P_x, P_y)\n",
    "        pose_data.write(\"{},{},{},{}\\n\".format(P_x, P_y, O_z, O_w))\n",
    "        \n",
    "        down_sample_Px.append(P_x)\n",
    "        down_sample_Py.append(P_y)\n",
    "        \n",
    "        old_x = P_x\n",
    "        old_y = P_y\n",
    "    \n",
    "#     print(P_x, P_y, O_z, O_w)"
   ]
  },
  {
   "cell_type": "code",
   "execution_count": null,
   "metadata": {},
   "outputs": [],
   "source": [
    "plt.scatter(down_sample_Px,down_sample_Py, s=50, label='Pose Measurements', marker='+')\n",
    "# Start/Goal\n",
    "\n",
    "plt.xlabel('X [m]')\n",
    "plt.ylabel('Y [m]')\n",
    "plt.title('Position')\n",
    "# plt.legend(loc='best')\n",
    "plt.axis('equal')\n",
    "plt.show()"
   ]
  },
  {
   "cell_type": "code",
   "execution_count": null,
   "metadata": {},
   "outputs": [],
   "source": []
  },
  {
   "cell_type": "code",
   "execution_count": null,
   "metadata": {},
   "outputs": [],
   "source": []
  }
 ],
 "metadata": {
  "kernelspec": {
   "display_name": "Python 3",
   "language": "python",
   "name": "python3"
  },
  "language_info": {
   "codemirror_mode": {
    "name": "ipython",
    "version": 3
   },
   "file_extension": ".py",
   "mimetype": "text/x-python",
   "name": "python",
   "nbconvert_exporter": "python",
   "pygments_lexer": "ipython3",
   "version": "3.6.9"
  }
 },
 "nbformat": 4,
 "nbformat_minor": 4
}
